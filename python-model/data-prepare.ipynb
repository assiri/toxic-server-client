{
 "cells": [
  {
   "cell_type": "markdown",
   "metadata": {},
   "source": [
    "### Prepare Sample Data For Toxicity Detection"
   ]
  },
  {
   "cell_type": "code",
   "execution_count": 1,
   "metadata": {},
   "outputs": [],
   "source": [
    "import pandas as pd\n",
    "import numpy as np\n",
    "from sklearn.model_selection import train_test_split"
   ]
  },
  {
   "cell_type": "code",
   "execution_count": 2,
   "metadata": {},
   "outputs": [],
   "source": [
    "# read data\n",
    "# data obtained from : https://www.kaggle.com/fizzbuzz/cleaned-toxic-comments \n",
    "df = pd.read_csv('train_preprocessed.csv')"
   ]
  },
  {
   "cell_type": "code",
   "execution_count": 3,
   "metadata": {},
   "outputs": [
    {
     "name": "stdout",
     "output_type": "stream",
     "text": [
      "<class 'pandas.core.frame.DataFrame'>\n",
      "RangeIndex: 159571 entries, 0 to 159570\n",
      "Data columns (total 10 columns):\n",
      " #   Column         Non-Null Count   Dtype  \n",
      "---  ------         --------------   -----  \n",
      " 0   comment_text   159571 non-null  object \n",
      " 1   id             159571 non-null  object \n",
      " 2   identity_hate  159571 non-null  float64\n",
      " 3   insult         159571 non-null  float64\n",
      " 4   obscene        159571 non-null  float64\n",
      " 5   set            159571 non-null  object \n",
      " 6   severe_toxic   159571 non-null  float64\n",
      " 7   threat         159571 non-null  float64\n",
      " 8   toxic          159571 non-null  float64\n",
      " 9   toxicity       159571 non-null  float64\n",
      "dtypes: float64(7), object(3)\n",
      "memory usage: 12.2+ MB\n"
     ]
    }
   ],
   "source": [
    "# explore df\n",
    "df.info()\n",
    "# shuffle the DataFrame rows \n",
    "df = df.sample(frac = 1) "
   ]
  },
  {
   "cell_type": "code",
   "execution_count": 4,
   "metadata": {},
   "outputs": [
    {
     "data": {
      "text/html": [
       "<div>\n",
       "<style scoped>\n",
       "    .dataframe tbody tr th:only-of-type {\n",
       "        vertical-align: middle;\n",
       "    }\n",
       "\n",
       "    .dataframe tbody tr th {\n",
       "        vertical-align: top;\n",
       "    }\n",
       "\n",
       "    .dataframe thead th {\n",
       "        text-align: right;\n",
       "    }\n",
       "</style>\n",
       "<table border=\"1\" class=\"dataframe\">\n",
       "  <thead>\n",
       "    <tr style=\"text-align: right;\">\n",
       "      <th></th>\n",
       "      <th>comment_text</th>\n",
       "      <th>id</th>\n",
       "      <th>identity_hate</th>\n",
       "      <th>insult</th>\n",
       "      <th>obscene</th>\n",
       "      <th>set</th>\n",
       "      <th>severe_toxic</th>\n",
       "      <th>threat</th>\n",
       "      <th>toxic</th>\n",
       "      <th>toxicity</th>\n",
       "    </tr>\n",
       "  </thead>\n",
       "  <tbody>\n",
       "    <tr>\n",
       "      <th>99262</th>\n",
       "      <td>holy grail some commentators claim that wolfr...</td>\n",
       "      <td>12fc2ac75b0fc9c8</td>\n",
       "      <td>0.0</td>\n",
       "      <td>0.0</td>\n",
       "      <td>0.0</td>\n",
       "      <td>train</td>\n",
       "      <td>0.0</td>\n",
       "      <td>0.0</td>\n",
       "      <td>0.0</td>\n",
       "      <td>0.0</td>\n",
       "    </tr>\n",
       "    <tr>\n",
       "      <th>150755</th>\n",
       "      <td>maybe you should be civil towards other people...</td>\n",
       "      <td>718629963d505de1</td>\n",
       "      <td>0.0</td>\n",
       "      <td>0.0</td>\n",
       "      <td>0.0</td>\n",
       "      <td>train</td>\n",
       "      <td>0.0</td>\n",
       "      <td>0.0</td>\n",
       "      <td>0.0</td>\n",
       "      <td>0.0</td>\n",
       "    </tr>\n",
       "    <tr>\n",
       "      <th>71675</th>\n",
       "      <td>your unsourced talk of racism in this edit sum...</td>\n",
       "      <td>bfe78785c17d8ad1</td>\n",
       "      <td>0.0</td>\n",
       "      <td>0.0</td>\n",
       "      <td>0.0</td>\n",
       "      <td>train</td>\n",
       "      <td>0.0</td>\n",
       "      <td>0.0</td>\n",
       "      <td>0.0</td>\n",
       "      <td>0.0</td>\n",
       "    </tr>\n",
       "    <tr>\n",
       "      <th>133485</th>\n",
       "      <td>agreed we really should try to stick to the s...</td>\n",
       "      <td>ca1a4d166545f2af</td>\n",
       "      <td>0.0</td>\n",
       "      <td>0.0</td>\n",
       "      <td>0.0</td>\n",
       "      <td>train</td>\n",
       "      <td>0.0</td>\n",
       "      <td>0.0</td>\n",
       "      <td>0.0</td>\n",
       "      <td>0.0</td>\n",
       "    </tr>\n",
       "    <tr>\n",
       "      <th>83712</th>\n",
       "      <td>verse problem i dont ever remember there being...</td>\n",
       "      <td>e005a13ed8da5b69</td>\n",
       "      <td>0.0</td>\n",
       "      <td>0.0</td>\n",
       "      <td>0.0</td>\n",
       "      <td>train</td>\n",
       "      <td>0.0</td>\n",
       "      <td>0.0</td>\n",
       "      <td>0.0</td>\n",
       "      <td>0.0</td>\n",
       "    </tr>\n",
       "  </tbody>\n",
       "</table>\n",
       "</div>"
      ],
      "text/plain": [
       "                                             comment_text                id  \\\n",
       "99262    holy grail some commentators claim that wolfr...  12fc2ac75b0fc9c8   \n",
       "150755  maybe you should be civil towards other people...  718629963d505de1   \n",
       "71675   your unsourced talk of racism in this edit sum...  bfe78785c17d8ad1   \n",
       "133485   agreed we really should try to stick to the s...  ca1a4d166545f2af   \n",
       "83712   verse problem i dont ever remember there being...  e005a13ed8da5b69   \n",
       "\n",
       "        identity_hate  insult  obscene    set  severe_toxic  threat  toxic  \\\n",
       "99262             0.0     0.0      0.0  train           0.0     0.0    0.0   \n",
       "150755            0.0     0.0      0.0  train           0.0     0.0    0.0   \n",
       "71675             0.0     0.0      0.0  train           0.0     0.0    0.0   \n",
       "133485            0.0     0.0      0.0  train           0.0     0.0    0.0   \n",
       "83712             0.0     0.0      0.0  train           0.0     0.0    0.0   \n",
       "\n",
       "        toxicity  \n",
       "99262        0.0  \n",
       "150755       0.0  \n",
       "71675        0.0  \n",
       "133485       0.0  \n",
       "83712        0.0  "
      ]
     },
     "execution_count": 4,
     "metadata": {},
     "output_type": "execute_result"
    }
   ],
   "source": [
    "# explore top 5 rows\n",
    "df.head()"
   ]
  },
  {
   "cell_type": "code",
   "execution_count": 5,
   "metadata": {},
   "outputs": [
    {
     "data": {
      "text/plain": [
       "0.0    0.904156\n",
       "1.0    0.095844\n",
       "Name: toxic, dtype: float64"
      ]
     },
     "execution_count": 5,
     "metadata": {},
     "output_type": "execute_result"
    }
   ],
   "source": [
    "# toxic lablel distribution\n",
    "df['toxic'].value_counts(normalize=True)"
   ]
  },
  {
   "cell_type": "markdown",
   "metadata": {},
   "source": [
    "#### Extracting Sample"
   ]
  },
  {
   "cell_type": "code",
   "execution_count": 6,
   "metadata": {},
   "outputs": [],
   "source": [
    "# using train test split \n",
    "from sklearn.model_selection import train_test_split\n",
    "\n",
    "def getSampleData(df, filename, rowsCount):\n",
    "        # extract X and y \n",
    "    X = df[['id', 'comment_text', 'severe_toxic', 'obscene',\n",
    "           'threat', 'insult', 'identity_hate']].values\n",
    "    y = df['toxic'].values\n",
    "    \n",
    "    test_size = rowsCount / len(df)\n",
    "    # run the train test split. we are extracting 100 rows out of 159571 : 100/159571 = 0.0006266802\n",
    "    # create train test split\n",
    "    X_train, X_test, y_train, y_test = train_test_split(\n",
    "            X, y,stratify=y, test_size=test_size)\n",
    "    \n",
    "    # print shape\n",
    "    print(X_test.shape, y_test.shape)\n",
    "    \n",
    "    # create dataframe with test data and add toxic column\n",
    "    df_sample = pd.DataFrame(X_test)\n",
    "    df_sample.columns = [ 'id', 'comment_text', 'severe_toxic', 'obscene',\n",
    "           'threat', 'insult', 'identity_hate']\n",
    "    df_sample['toxic'] = y_test\n",
    "    \n",
    "    # checking the distribution of toxic column\n",
    "    print(df_sample['toxic'].value_counts())\n",
    "    # exporting the sample dataset\n",
    "    df_sample.to_csv(fileName, index=False)\n",
    "    \n",
    "    print('sample created')\n"
   ]
  },
  {
   "cell_type": "code",
   "execution_count": 7,
   "metadata": {},
   "outputs": [
    {
     "name": "stdout",
     "output_type": "stream",
     "text": [
      "(100, 7) (100,)\n",
      "0.0    90\n",
      "1.0    10\n",
      "Name: toxic, dtype: int64\n",
      "sample created\n"
     ]
    }
   ],
   "source": [
    "# small sample \n",
    "rows = 100\n",
    "fileName='toxic_data_sample.csv'\n",
    "getSampleData(df, fileName, rows)"
   ]
  },
  {
   "cell_type": "code",
   "execution_count": 8,
   "metadata": {},
   "outputs": [
    {
     "name": "stdout",
     "output_type": "stream",
     "text": [
      "(1000, 7) (1000,)\n",
      "0.0    904\n",
      "1.0     96\n",
      "Name: toxic, dtype: int64\n",
      "sample created\n"
     ]
    }
   ],
   "source": [
    "# mid size sample \n",
    "rows = 1000\n",
    "fileName='toxic_data_mid.csv'\n",
    "getSampleData(df, fileName, rows)"
   ]
  },
  {
   "cell_type": "markdown",
   "metadata": {},
   "source": [
    "## full dataset"
   ]
  },
  {
   "cell_type": "code",
   "execution_count": 9,
   "metadata": {},
   "outputs": [
    {
     "data": {
      "text/html": [
       "<div>\n",
       "<style scoped>\n",
       "    .dataframe tbody tr th:only-of-type {\n",
       "        vertical-align: middle;\n",
       "    }\n",
       "\n",
       "    .dataframe tbody tr th {\n",
       "        vertical-align: top;\n",
       "    }\n",
       "\n",
       "    .dataframe thead th {\n",
       "        text-align: right;\n",
       "    }\n",
       "</style>\n",
       "<table border=\"1\" class=\"dataframe\">\n",
       "  <thead>\n",
       "    <tr style=\"text-align: right;\">\n",
       "      <th></th>\n",
       "      <th>comment_text</th>\n",
       "      <th>id</th>\n",
       "      <th>identity_hate</th>\n",
       "      <th>insult</th>\n",
       "      <th>obscene</th>\n",
       "      <th>set</th>\n",
       "      <th>severe_toxic</th>\n",
       "      <th>threat</th>\n",
       "      <th>toxic</th>\n",
       "      <th>toxicity</th>\n",
       "    </tr>\n",
       "  </thead>\n",
       "  <tbody>\n",
       "    <tr>\n",
       "      <th>99262</th>\n",
       "      <td>holy grail some commentators claim that wolfr...</td>\n",
       "      <td>12fc2ac75b0fc9c8</td>\n",
       "      <td>0.0</td>\n",
       "      <td>0.0</td>\n",
       "      <td>0.0</td>\n",
       "      <td>train</td>\n",
       "      <td>0.0</td>\n",
       "      <td>0.0</td>\n",
       "      <td>0.0</td>\n",
       "      <td>0.0</td>\n",
       "    </tr>\n",
       "    <tr>\n",
       "      <th>150755</th>\n",
       "      <td>maybe you should be civil towards other people...</td>\n",
       "      <td>718629963d505de1</td>\n",
       "      <td>0.0</td>\n",
       "      <td>0.0</td>\n",
       "      <td>0.0</td>\n",
       "      <td>train</td>\n",
       "      <td>0.0</td>\n",
       "      <td>0.0</td>\n",
       "      <td>0.0</td>\n",
       "      <td>0.0</td>\n",
       "    </tr>\n",
       "    <tr>\n",
       "      <th>71675</th>\n",
       "      <td>your unsourced talk of racism in this edit sum...</td>\n",
       "      <td>bfe78785c17d8ad1</td>\n",
       "      <td>0.0</td>\n",
       "      <td>0.0</td>\n",
       "      <td>0.0</td>\n",
       "      <td>train</td>\n",
       "      <td>0.0</td>\n",
       "      <td>0.0</td>\n",
       "      <td>0.0</td>\n",
       "      <td>0.0</td>\n",
       "    </tr>\n",
       "    <tr>\n",
       "      <th>133485</th>\n",
       "      <td>agreed we really should try to stick to the s...</td>\n",
       "      <td>ca1a4d166545f2af</td>\n",
       "      <td>0.0</td>\n",
       "      <td>0.0</td>\n",
       "      <td>0.0</td>\n",
       "      <td>train</td>\n",
       "      <td>0.0</td>\n",
       "      <td>0.0</td>\n",
       "      <td>0.0</td>\n",
       "      <td>0.0</td>\n",
       "    </tr>\n",
       "    <tr>\n",
       "      <th>83712</th>\n",
       "      <td>verse problem i dont ever remember there being...</td>\n",
       "      <td>e005a13ed8da5b69</td>\n",
       "      <td>0.0</td>\n",
       "      <td>0.0</td>\n",
       "      <td>0.0</td>\n",
       "      <td>train</td>\n",
       "      <td>0.0</td>\n",
       "      <td>0.0</td>\n",
       "      <td>0.0</td>\n",
       "      <td>0.0</td>\n",
       "    </tr>\n",
       "  </tbody>\n",
       "</table>\n",
       "</div>"
      ],
      "text/plain": [
       "                                             comment_text                id  \\\n",
       "99262    holy grail some commentators claim that wolfr...  12fc2ac75b0fc9c8   \n",
       "150755  maybe you should be civil towards other people...  718629963d505de1   \n",
       "71675   your unsourced talk of racism in this edit sum...  bfe78785c17d8ad1   \n",
       "133485   agreed we really should try to stick to the s...  ca1a4d166545f2af   \n",
       "83712   verse problem i dont ever remember there being...  e005a13ed8da5b69   \n",
       "\n",
       "        identity_hate  insult  obscene    set  severe_toxic  threat  toxic  \\\n",
       "99262             0.0     0.0      0.0  train           0.0     0.0    0.0   \n",
       "150755            0.0     0.0      0.0  train           0.0     0.0    0.0   \n",
       "71675             0.0     0.0      0.0  train           0.0     0.0    0.0   \n",
       "133485            0.0     0.0      0.0  train           0.0     0.0    0.0   \n",
       "83712             0.0     0.0      0.0  train           0.0     0.0    0.0   \n",
       "\n",
       "        toxicity  \n",
       "99262        0.0  \n",
       "150755       0.0  \n",
       "71675        0.0  \n",
       "133485       0.0  \n",
       "83712        0.0  "
      ]
     },
     "execution_count": 9,
     "metadata": {},
     "output_type": "execute_result"
    }
   ],
   "source": [
    "df.head()"
   ]
  },
  {
   "cell_type": "code",
   "execution_count": 10,
   "metadata": {},
   "outputs": [],
   "source": [
    "df= df[[ 'id', 'comment_text', 'severe_toxic', 'obscene',\n",
    "           'threat', 'insult', 'identity_hate','toxic']]\n",
    "df.to_csv('toxic_data_full.csv', index=False)"
   ]
  },
  {
   "cell_type": "code",
   "execution_count": null,
   "metadata": {},
   "outputs": [],
   "source": []
  }
 ],
 "metadata": {
  "kernelspec": {
   "display_name": "Python 3",
   "language": "python",
   "name": "python3"
  },
  "language_info": {
   "codemirror_mode": {
    "name": "ipython",
    "version": 3
   },
   "file_extension": ".py",
   "mimetype": "text/x-python",
   "name": "python",
   "nbconvert_exporter": "python",
   "pygments_lexer": "ipython3",
   "version": "3.6.12"
  }
 },
 "nbformat": 4,
 "nbformat_minor": 4
}
